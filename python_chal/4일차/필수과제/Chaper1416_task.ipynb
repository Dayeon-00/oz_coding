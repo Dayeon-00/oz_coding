{
 "cells": [
  {
   "cell_type": "markdown",
   "metadata": {
    "id": "BX7SgOeWu86I"
   },
   "source": [
    "안녕하세요. 수강생 여러분~! Chapter14 ~ 16 수업은 잘 들으셨나요?\n",
    "\n",
    "Chapter14 ~ 16의 수업 내용을 바탕으로 아래 문제를 풀어주시면 됩니다.\n",
    "\n",
    "<br>\n",
    "\n",
    "\n",
    "[**답변 입력 방법**]\n",
    "\n",
    "문제 아래에 있는 코드 입력창에 정답코드를 작성하신 후  __▷ 버튼을 클릭해 코드를 실행__ 해보세요<br>"
   ]
  },
  {
   "cell_type": "markdown",
   "metadata": {},
   "source": [
    "---"
   ]
  },
  {
   "cell_type": "markdown",
   "metadata": {
    "id": "7kQJMRuFu-6s"
   },
   "source": [
    "__[문제1]__\n",
    "\n",
    "주어진 정수 x와 자연수 n을 이용해, x부터 시작해 x씩 증가하는 숫자를 n개 지니는 리스트를 출력해주세요   \n",
    "<br>\n",
    "\n",
    "x = 2, n =5"
   ]
  },
  {
   "cell_type": "code",
   "metadata": {
    "id": "juUF2KYbu0DX",
    "ExecuteTime": {
     "end_time": "2025-04-27T14:20:12.747922Z",
     "start_time": "2025-04-27T14:20:12.745226Z"
    }
   },
   "source": [
    "from operator import truediv\n",
    "\n",
    "x = 2\n",
    "n = 5\n",
    "a=[]\n",
    "result=0\n",
    "for i in range(n):\n",
    "# for i in [1,2,3,4,5]:\n",
    "    result+=x\n",
    "    a.append(result)\n",
    "\n",
    "print(a)"
   ],
   "outputs": [
    {
     "name": "stdout",
     "output_type": "stream",
     "text": [
      "[2, 4, 6, 8, 10]\n"
     ]
    }
   ],
   "execution_count": 39
  },
  {
   "cell_type": "markdown",
   "metadata": {},
   "source": [
    "---"
   ]
  },
  {
   "cell_type": "markdown",
   "metadata": {
    "id": "4BPXMLXUvBVL"
   },
   "source": [
    "__[문제2]__\n",
    "\n",
    "전화번호가 문자열 phone_number로 주어졌을 때, 전화번호의 뒷 4자리를 *으로 가린 문자열이 출력되도록 코드를 작성해주세요\n",
    "\n",
    "phone_number = \"01012347890\"  \n",
    "<br>\n",
    "\n",
    "출력 예) \"0101234****\""
   ]
  },
  {
   "cell_type": "code",
   "metadata": {
    "id": "P0fY7CYUvC_j",
    "ExecuteTime": {
     "end_time": "2025-04-27T14:20:12.767017Z",
     "start_time": "2025-04-27T14:20:12.764324Z"
    }
   },
   "source": [
    "phone_number = \"01012347890\"\n",
    "a=[]\n",
    "for i in range(len(phone_number)):\n",
    "    if(i>=7):\n",
    "        a.append(\"*\")\n",
    "    else:\n",
    "        a.append(phone_number[i])\n",
    "\n",
    "result=\"\".join(a)\n",
    "print(result)\n"
   ],
   "outputs": [
    {
     "name": "stdout",
     "output_type": "stream",
     "text": [
      "0101234****\n"
     ]
    }
   ],
   "execution_count": 40
  },
  {
   "cell_type": "markdown",
   "metadata": {},
   "source": [
    "---"
   ]
  },
  {
   "cell_type": "markdown",
   "metadata": {
    "id": "uUdOU9cFvDsq"
   },
   "source": [
    "__[문제3]__\n",
    "\n",
    "숫자를 건넬 때 일부 자릿수를 영단어로 바꾼 카드를 건네주면 프로도는 원래 숫자를 찾는 게임입니다.\n",
    "\n",
    "다음은 숫자의 일부 자릿수를 영단어로 바꾸는 예시입니다.\n",
    "\n",
    "1478 → \"one4seveneight\"  \n",
    "234567 → \"23four5six7\"  \n",
    "10203 → \"1zerotwozero3\"    \n",
    "\n",
    "이렇게 숫자의 일부 자릿수가 영단어로 바뀌어졌거나,   \n",
    "혹은 바뀌지 않고 그대로인 문자열 s가 주어졌을때\n",
    "s가 의미하는 원래 숫자를 출력하도록 코드를 작성해주세요\n",
    "\n",
    "s = \"77three4one\n",
    "\n",
    "---\n",
    "참고로 각 숫자에 대응되는 영단어는 다음 표와 같습니다.\n",
    "\n",
    "숫자\t영단어  \n",
    "0\tzero  \n",
    "1\tone  \n",
    "2\ttwo  \n",
    "3\tthree  \n",
    "4\tfour  \n",
    "5\tfive  \n",
    "6\tsix  \n",
    "7\tseven  \n",
    "8\teight  \n",
    "9\tnine"
   ]
  },
  {
   "metadata": {
    "id": "2NmqRFgDvFtz",
    "ExecuteTime": {
     "end_time": "2025-04-27T14:20:12.782138Z",
     "start_time": "2025-04-27T14:20:12.779468Z"
    }
   },
   "cell_type": "code",
   "source": [
    "s = \"77three4one\"\n",
    "while True:\n",
    "    if \"zero\" in s:\n",
    "        s=s.replace(\"zero\",\"0\")\n",
    "    elif \"one\" in s:\n",
    "        s=s.replace(\"one\",\"1\")\n",
    "    elif \"two\" in s:\n",
    "        s=s.replace(\"two\",\"2\")\n",
    "    elif \"three\" in s:\n",
    "        s=s.replace(\"three\",\"3\")\n",
    "    elif \"four\" in s:\n",
    "        s=s.replace(\"four\",\"4\")\n",
    "    elif \"five\" in s:\n",
    "        s=s.replace(\"five\",\"5\")\n",
    "    elif \"six\" in s:\n",
    "        s=s.replace(\"six\",\"6\")\n",
    "    elif \"seven\" in s:\n",
    "        s=s.replace(\"seven\",\"7\")\n",
    "    elif \"eight\"in s:\n",
    "        s=s.replace(\"eight\",\"8\")\n",
    "    elif \"nine\" in s:\n",
    "        s=s.replace(\"nine\",\"9\")\n",
    "    else:\n",
    "        break\n",
    "\n",
    "\n",
    "print(s)"
   ],
   "outputs": [
    {
     "name": "stdout",
     "output_type": "stream",
     "text": [
      "77341\n"
     ]
    }
   ],
   "execution_count": 41
  },
  {
   "cell_type": "markdown",
   "metadata": {},
   "source": [
    "---"
   ]
  },
  {
   "cell_type": "markdown",
   "metadata": {
    "id": "J0Tha6AdvGL3"
   },
   "source": [
    "__[문제4]__\n",
    "\n",
    "행렬의 덧셈은 행과 열의 크기가 같은 두 행렬의 같은 행, 같은 열의 값을 서로 더한 결과가 됩니다. \n",
    "\n",
    " 행렬 arr1과 arr2가 주어졌을 때, 행렬 덧셈의 결과를 출력하는 코드를 작성해주세요(result와 같은 결과가 출력되도록 작성)\n",
    "\n",
    "arr1 = [[1,2],[2,3]]\n",
    "\n",
    "arr2 = [[3,4],[5,6]]\n",
    "\n",
    "result = [[4,6],[7,9]]"
   ]
  },
  {
   "cell_type": "code",
   "metadata": {
    "id": "ujiXrEhJvIV0",
    "ExecuteTime": {
     "end_time": "2025-04-27T14:29:04.186963Z",
     "start_time": "2025-04-27T14:29:04.183171Z"
    }
   },
   "source": [
    "arr1 = [[1,2],[2,3]]\n",
    "arr2 = [[3,4],[5,6]]\n",
    "\n",
    "a = [arr1[0][0] + arr2[0][0], arr1[0][1] + arr2[0][1]]\n",
    "b= [arr1[1][0] + arr2[1][0], arr1[1][1] + arr2[1][1]]\n",
    "c = [a,b]\n",
    "\n",
    "print(c)\n",
    "\n",
    "result = [[4,6],[7,9]]"
   ],
   "outputs": [
    {
     "name": "stdout",
     "output_type": "stream",
     "text": [
      "[[4, 6], [7, 9]]\n"
     ]
    }
   ],
   "execution_count": 50
  },
  {
   "cell_type": "markdown",
   "metadata": {},
   "source": "p---"
  },
  {
   "cell_type": "markdown",
   "metadata": {
    "id": "eLdrWVkavJEN"
   },
   "source": [
    "__[문제5]__\n",
    "\n",
    "양의 정수 x가 하샤드 수이려면 x의 자릿수의 합으로 x가 나누어져야 합니다.   \n",
    "예를 들어 18의 자릿수 합은 1+8=9이고, 18은 9로 나누어 떨어지므로 18은 하샤드 수입니다.   \n",
    "주어진 x를 이용해 x가 하샤드 수인지 아닌지 검사하는 코드를 작성해주세요\n",
    "\n",
    "x = 17\n",
    "\n",
    "----\n",
    "\n",
    "입출력 예시\n",
    "x\t결과값  \n",
    "10\ttrue  \n",
    "12\ttrue  \n",
    "11\tfalse  \n",
    "13\tfalse  "
   ]
  },
  {
   "cell_type": "code",
   "metadata": {
    "id": "EULD-IOrvKmG",
    "ExecuteTime": {
     "end_time": "2025-04-27T14:53:34.733794Z",
     "start_time": "2025-04-27T14:53:34.730550Z"
    }
   },
   "source": [
    "x = 17\n",
    "\n",
    "a = x//10\n",
    "b = x % 10\n",
    "c = a + b\n",
    "\n",
    "if x//c ==0:\n",
    "    print(\"true\")\n",
    "else:\n",
    "    print(\"false\")\n",
    "\n"
   ],
   "outputs": [
    {
     "name": "stdout",
     "output_type": "stream",
     "text": [
      "false\n"
     ]
    }
   ],
   "execution_count": 60
  },
  {
   "cell_type": "markdown",
   "metadata": {},
   "source": [
    "---"
   ]
  },
  {
   "cell_type": "markdown",
   "metadata": {
    "id": "GeS6hZhivLMZ"
   },
   "source": [
    "__[문제6]__\n",
    "\n",
    "String형 배열 seoul의 element중 \"Kim\"의 인덱스 x를 찾아, \"김서방은 x에 있다\"는 String을 출력하는 코드를 작성해주세요.   \n",
    "\n",
    "seoul에 \"Kim\"은 오직 한 번만 나타나며 잘못된 값이 입력되는 경우는 없습니다.\n",
    "\n",
    "seoul = [\"Jane\", \"Kim\"]\n",
    "\n",
    "<br>\n",
    "출력 예) \"김서방은 1에 있다\""
   ]
  },
  {
   "cell_type": "code",
   "metadata": {
    "id": "e4LXat3BvRRg",
    "ExecuteTime": {
     "end_time": "2025-04-28T03:04:31.506012Z",
     "start_time": "2025-04-28T03:04:31.503260Z"
    }
   },
   "source": [
    "seoul =[\"jane\",\"kim\"]\n",
    "for i in range(len(seoul)):\n",
    "    if seoul[i]==\"kim\":\n",
    "        print(f'김서방이 {i}에 있다')"
   ],
   "outputs": [
    {
     "name": "stdout",
     "output_type": "stream",
     "text": [
      "김서방이 1에 있다\n"
     ]
    }
   ],
   "execution_count": 76
  },
  {
   "cell_type": "markdown",
   "metadata": {},
   "source": [
    "---"
   ]
  },
  {
   "cell_type": "markdown",
   "metadata": {
    "id": "iZjKl-ZqvOkm"
   },
   "source": [
    "__[문제7]__\n",
    "\n",
    "0부터 9까지의 숫자 중 일부가 들어있는 정수 배열 numbers가 주어집니다.   \n",
    "numbers에서 찾을 수 없는 0부터 9까지의 숫자를 모두 찾아 더한 수를 출력해주세요\n",
    "\n",
    "numbers = [5,8,1,0,6,9]"
   ]
  },
  {
   "cell_type": "code",
   "metadata": {
    "id": "598DAkIHvQav",
    "ExecuteTime": {
     "end_time": "2025-05-01T04:28:13.325945Z",
     "start_time": "2025-05-01T04:28:13.319399Z"
    }
   },
   "source": [
    "numbers = [5,8,1,0,6,9]\n",
    "\n",
    "total = sum(numbers)\n",
    "print(total)\n",
    "num = sum(range(10))\n",
    "result = num - total\n",
    "\n",
    "print(result)"
   ],
   "outputs": [
    {
     "name": "stdout",
     "output_type": "stream",
     "text": [
      "29\n",
      "16\n"
     ]
    }
   ],
   "execution_count": 80
  },
  {
   "metadata": {},
   "cell_type": "code",
   "outputs": [],
   "execution_count": null,
   "source": ""
  }
 ],
 "metadata": {
  "colab": {
   "authorship_tag": "ABX9TyMLQjyUmELFyKkx1AyovOFZ",
   "provenance": []
  },
  "kernelspec": {
   "display_name": "Python 3 (ipykernel)",
   "name": "python3",
   "language": "python"
  },
  "language_info": {
   "codemirror_mode": {
    "name": "ipython",
    "version": 3
   },
   "file_extension": ".py",
   "mimetype": "text/x-python",
   "name": "python",
   "nbconvert_exporter": "python",
   "pygments_lexer": "ipython3",
   "version": "3.11.7"
  }
 },
 "nbformat": 4,
 "nbformat_minor": 0
}
