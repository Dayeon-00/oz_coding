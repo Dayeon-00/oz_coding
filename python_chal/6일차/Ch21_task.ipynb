{
 "cells": [
  {
   "cell_type": "markdown",
   "metadata": {},
   "source": [
    "사용자로부터 이름과 나이를 입력 받아, \"안녕하세요, [이름]님! 당신은 [나이]살입니다.\"라고 출력하는 함수 greet_user를 작성하세요."
   ]
  },
  {
   "cell_type": "markdown",
   "metadata": {},
   "source": ""
  },
  {
   "metadata": {
    "ExecuteTime": {
     "end_time": "2025-05-01T08:55:45.859580Z",
     "start_time": "2025-05-01T08:55:33.602004Z"
    }
   },
   "cell_type": "code",
   "source": [
    "def greet_user():\n",
    "    name = input(\"이름을 입력하세요.\")\n",
    "    age = input(\"나이를 입력하세요.\")\n",
    "    print(f'안녕하세요,{name}님! 당신은 {age}살입니다.')\n",
    "greet_user()"
   ],
   "outputs": [
    {
     "name": "stdout",
     "output_type": "stream",
     "text": [
      "안녕하세요,김오즈님! 당신은 22살입니다.\n"
     ]
    }
   ],
   "execution_count": 1
  }
 ],
 "metadata": {
  "language_info": {
   "name": "python"
  },
  "kernelspec": {
   "name": "python3",
   "language": "python",
   "display_name": "Python 3 (ipykernel)"
  }
 },
 "nbformat": 4,
 "nbformat_minor": 2
}
