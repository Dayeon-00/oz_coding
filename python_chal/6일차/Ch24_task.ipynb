{
 "cells": [
  {
   "cell_type": "markdown",
   "metadata": {},
   "source": [
    "사용자의 이름, 나이, 성별을 출력하는 함수 print_info를 작성하세요. 이 때, 모든 매개변수는 키워드 매개변수로만 받도록 하세요."
   ]
  },
  {
   "metadata": {
    "ExecuteTime": {
     "end_time": "2025-05-01T10:02:35.596775Z",
     "start_time": "2025-05-01T10:02:35.591303Z"
    }
   },
   "cell_type": "code",
   "source": [
    "from statistics import median_low\n",
    "\n",
    "\n",
    "def print_info(name, age, gender):\n",
    "    print(f'당신의 이름은 {name}이고, 나이는 {age}이고, 성별은 {gender}입니다.')\n",
    "print_info(name = \"김코딩\", age = 38, gender = \"mel\")\n",
    "\n"
   ],
   "outputs": [
    {
     "name": "stdout",
     "output_type": "stream",
     "text": [
      "당신의 이름은 김코딩이고, 나이는 38이고, 성별은 mel입니다.\n"
     ]
    }
   ],
   "execution_count": 2
  }
 ],
 "metadata": {
  "language_info": {
   "name": "python"
  },
  "kernelspec": {
   "name": "python3",
   "language": "python",
   "display_name": "Python 3 (ipykernel)"
  }
 },
 "nbformat": 4,
 "nbformat_minor": 2
}
