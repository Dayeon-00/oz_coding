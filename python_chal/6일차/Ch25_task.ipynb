{
 "cells": [
  {
   "cell_type": "markdown",
   "metadata": {},
   "source": [
    "두 개의 정수를 받아 합을 반환하는 함수 add를 작성하세요. 매개변수와 반환값에 타입 어노테이션을 추가하세요."
   ]
  },
  {
   "metadata": {
    "ExecuteTime": {
     "end_time": "2025-05-02T05:22:53.484843Z",
     "start_time": "2025-05-02T05:22:48.529590Z"
    }
   },
   "cell_type": "code",
   "source": [
    "def add(num1: int, num2: int):\n",
    "        print(f'두 수의 합은{add}')\n",
    "        return num1 + num2\n",
    "num1, num2 = map(int, input(\"합을 구하고자 하는 두 수를 입력하세요.\").split(','))\n",
    "print(add(num1, num2))"
   ],
   "outputs": [
    {
     "name": "stdout",
     "output_type": "stream",
     "text": [
      "두 수의 합은<function add at 0x115892700>\n",
      "7\n"
     ]
    }
   ],
   "execution_count": 19
  }
 ],
 "metadata": {
  "language_info": {
   "name": "python"
  },
  "kernelspec": {
   "name": "python3",
   "language": "python",
   "display_name": "Python 3 (ipykernel)"
  }
 },
 "nbformat": 4,
 "nbformat_minor": 2
}
