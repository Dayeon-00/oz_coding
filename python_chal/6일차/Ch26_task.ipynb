{
 "cells": [
  {
   "cell_type": "markdown",
   "metadata": {},
   "source": [
    "0부터 시작하여 n까지의 숫자 중에서 홀수만 생성하는 제너레이터 odd_numbers를 작성하세요."
   ]
  },
  {
   "metadata": {
    "ExecuteTime": {
     "end_time": "2025-05-08T02:36:53.720421Z",
     "start_time": "2025-05-08T02:36:53.711477Z"
    }
   },
   "cell_type": "code",
   "source": [
    "def odd_numbers(n):\n",
    "    for i in range(n):\n",
    "        if not i % 2 == 0:\n",
    "            yield i\n",
    "\n",
    "for num in odd_numbers(10):\n",
    "    print(num)"
   ],
   "outputs": [
    {
     "name": "stdout",
     "output_type": "stream",
     "text": [
      "1\n",
      "3\n",
      "5\n",
      "7\n",
      "9\n"
     ]
    }
   ],
   "execution_count": 13
  }
 ],
 "metadata": {
  "language_info": {
   "name": "python"
  },
  "kernelspec": {
   "name": "python3",
   "language": "python",
   "display_name": "Python 3 (ipykernel)"
  }
 },
 "nbformat": 4,
 "nbformat_minor": 2
}
